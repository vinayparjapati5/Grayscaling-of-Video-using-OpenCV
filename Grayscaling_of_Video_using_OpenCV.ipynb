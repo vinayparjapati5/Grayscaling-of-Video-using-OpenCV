{
  "nbformat": 4,
  "nbformat_minor": 0,
  "metadata": {
    "colab": {
      "provenance": [],
      "authorship_tag": "ABX9TyM+t9ynPoe4ldW4EEA7fQmW",
      "include_colab_link": true
    },
    "kernelspec": {
      "name": "python3",
      "display_name": "Python 3"
    },
    "language_info": {
      "name": "python"
    }
  },
  "cells": [
    {
      "cell_type": "markdown",
      "metadata": {
        "id": "view-in-github",
        "colab_type": "text"
      },
      "source": [
        "<a href=\"https://colab.research.google.com/github/vinayparjapati5/Grayscaling-of-Video-using-OpenCV/blob/main/Grayscaling_of_Video_using_OpenCV.ipynb\" target=\"_parent\"><img src=\"https://colab.research.google.com/assets/colab-badge.svg\" alt=\"Open In Colab\"/></a>"
      ]
    },
    {
      "cell_type": "markdown",
      "source": [
        "---\n",
        "## **Mini Project : Convert Colored Video to Gray Scale (b/w) using OpenCV**\n",
        "---"
      ],
      "metadata": {
        "id": "r5f8waPc0p2t"
      }
    },
    {
      "cell_type": "markdown",
      "source": [
        "---\n",
        "### 1. Download  Colored Video using pytube\n",
        "---"
      ],
      "metadata": {
        "id": "KRsZ3r9r05Ln"
      }
    },
    {
      "cell_type": "code",
      "execution_count": 1,
      "metadata": {
        "colab": {
          "base_uri": "https://localhost:8080/"
        },
        "id": "bVkIcHjK0DPn",
        "outputId": "c8d7833b-f24d-44fa-9275-2c08aab9903a"
      },
      "outputs": [
        {
          "output_type": "stream",
          "name": "stdout",
          "text": [
            "Pytube installed successfully...\n",
            "Downloading: ENGINEERING DESIGN PROJECT- II(BUGGY) || VLOG1 || EXPERIENCES || ENJOY || THAPAR UNIVERSITY (720p)\n"
          ]
        }
      ],
      "source": [
        "!pip install pytube &>/dev/null\n",
        "print(\"Pytube installed successfully...\")\n",
        "\n",
        "from pytube import YouTube\n",
        "\n",
        "video_url = \"https://youtube.com/shorts/NJYT-f4nREo?feature=share\"\n",
        "yt = YouTube(video_url)\n",
        "\n",
        "# Set the desired video quality\n",
        "desired_quality = \"720p\"  # Example: \"720p\", \"480p\", \"360p\", \"240p\", etc.\n",
        "\n",
        "# Filter the streams based on the desired quality\n",
        "filtered_streams = yt.streams.filter(res=desired_quality)\n",
        "\n",
        "if len(filtered_streams) > 0:\n",
        "    # Get the first stream from the filtered list\n",
        "    stream = filtered_streams.first()\n",
        "\n",
        "    print(f\"Downloading: {yt.title} ({desired_quality})\")\n",
        "    stream.download()\n",
        "else:\n",
        "    print(f\"No streams found with the quality: {desired_quality}\")"
      ]
    },
    {
      "cell_type": "markdown",
      "source": [
        "---\n",
        "### 2. Import downloaded video & Convert it to Grayscale\n",
        "---"
      ],
      "metadata": {
        "id": "7seSpKa615JQ"
      }
    },
    {
      "cell_type": "code",
      "source": [
        "import cv2\n",
        "from moviepy.editor import VideoFileClip\n",
        "\n",
        "# Load the video\n",
        "video_path = \"/content/ENGINEERING DESIGN PROJECT- II(BUGGY)  VLOG1  EXPERIENCES  ENJOY  THAPAR UNIVERSITY.mp4\"\n",
        "cap = cv2.VideoCapture(video_path)\n",
        "\n",
        "# Get the video properties\n",
        "fps = cap.get(cv2.CAP_PROP_FPS)\n",
        "width = int(cap.get(cv2.CAP_PROP_FRAME_WIDTH))\n",
        "height = int(cap.get(cv2.CAP_PROP_FRAME_HEIGHT))\n",
        "\n",
        "# Create a VideoWriter object to save the grayscale video\n",
        "output_path = \"output_video.mp4\"\n",
        "fourcc = cv2.VideoWriter_fourcc(*\"mp4v\")\n",
        "out = cv2.VideoWriter(output_path, fourcc, fps, (width, height), isColor=False)\n",
        "\n",
        "# Loop through the video frames\n",
        "while cap.isOpened():\n",
        "    ret, frame = cap.read()\n",
        "    if ret:\n",
        "        # Convert the frame to grayscale\n",
        "        gray_frame = cv2.cvtColor(frame, cv2.COLOR_BGR2GRAY)\n",
        "\n",
        "        # Write the grayscale frame to the output video\n",
        "        out.write(gray_frame)\n",
        "\n",
        "        # Check if the 'q' key is pressed to quit\n",
        "        if cv2.waitKey(1) & 0xFF == ord('q'):\n",
        "            break\n",
        "    else:\n",
        "        break\n",
        "\n",
        "# Release the video capture and writer objects\n",
        "cap.release()\n",
        "out.release()\n",
        "\n",
        "# Close the OpenCV windows\n",
        "cv2.destroyAllWindows()\n",
        "\n",
        "# Add audio to the grayscale video using moviepy\n",
        "video_clip = VideoFileClip(output_path)\n",
        "video_clip1 = VideoFileClip(video_path)\n",
        "audio_clip = video_clip1.audio\n",
        "final_clip = video_clip.set_audio(audio_clip)\n",
        "final_output_path = \"output_video_with_audio.mp4\"\n",
        "final_clip.write_videofile(final_output_path, codec=\"libx264\", audio_codec=\"aac\")\n",
        "\n",
        "print(\"Conversion complete. Grayscale video with audio saved.\")"
      ],
      "metadata": {
        "colab": {
          "base_uri": "https://localhost:8080/"
        },
        "id": "OJ-koHMr2NG0",
        "outputId": "ac0d4deb-3e94-41eb-cf6d-aa9b70c1542c"
      },
      "execution_count": 2,
      "outputs": [
        {
          "output_type": "stream",
          "name": "stdout",
          "text": [
            "Moviepy - Building video output_video_with_audio.mp4.\n",
            "MoviePy - Writing audio in output_video_with_audioTEMP_MPY_wvf_snd.mp4\n"
          ]
        },
        {
          "output_type": "stream",
          "name": "stderr",
          "text": []
        },
        {
          "output_type": "stream",
          "name": "stdout",
          "text": [
            "MoviePy - Done.\n",
            "Moviepy - Writing video output_video_with_audio.mp4\n",
            "\n"
          ]
        },
        {
          "output_type": "stream",
          "name": "stderr",
          "text": []
        },
        {
          "output_type": "stream",
          "name": "stdout",
          "text": [
            "Moviepy - Done !\n",
            "Moviepy - video ready output_video_with_audio.mp4\n",
            "Conversion complete. Grayscale video with audio saved.\n"
          ]
        }
      ]
    }
  ]
}